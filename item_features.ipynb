{
 "cells": [
  {
   "cell_type": "code",
   "execution_count": 1,
   "id": "09528dba-5239-45b8-9fbb-181f1a278d5e",
   "metadata": {
    "tags": []
   },
   "outputs": [],
   "source": [
    "# item_features.py\n",
    "import pandas as pd"
   ]
  },
  {
   "cell_type": "code",
   "execution_count": 2,
   "id": "52e44442-9691-4582-a317-02a97f255336",
   "metadata": {
    "tags": []
   },
   "outputs": [],
   "source": [
    "# Load the item info data\n",
    "item_info = pd.read_csv('../data/item_info.csv')"
   ]
  },
  {
   "cell_type": "code",
   "execution_count": 3,
   "id": "b2bac325-3315-4a2c-b7db-2e5d3c11a217",
   "metadata": {
    "tags": []
   },
   "outputs": [],
   "source": [
    "\n",
    "# Create item-related features (e.g., one-hot encoding of item_category)\n",
    "item_features = pd.get_dummies(item_info, columns=['item_category'], prefix='item_cat')\n"
   ]
  },
  {
   "cell_type": "code",
   "execution_count": 5,
   "id": "bac1a8c2-6bb2-4af9-8280-cc6a6bc24e89",
   "metadata": {
    "tags": []
   },
   "outputs": [],
   "source": [
    "# Save the item-related features to a new file\n",
    "item_features.to_csv('../data/item_features.csv', index=False)"
   ]
  },
  {
   "cell_type": "code",
   "execution_count": null,
   "id": "488af632-c5c9-4d2a-8c70-300318235028",
   "metadata": {},
   "outputs": [],
   "source": []
  }
 ],
 "metadata": {
  "kernelspec": {
   "display_name": "Python 3 (ipykernel)",
   "language": "python",
   "name": "python3"
  },
  "language_info": {
   "codemirror_mode": {
    "name": "ipython",
    "version": 3
   },
   "file_extension": ".py",
   "mimetype": "text/x-python",
   "name": "python",
   "nbconvert_exporter": "python",
   "pygments_lexer": "ipython3",
   "version": "3.11.0"
  }
 },
 "nbformat": 4,
 "nbformat_minor": 5
}
