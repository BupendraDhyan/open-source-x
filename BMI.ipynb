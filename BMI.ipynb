{
 "cells": [
  {
   "cell_type": "code",
   "execution_count": 26,
   "id": "84e610bc-3d1a-4a85-afec-ce312989f8b2",
   "metadata": {},
   "outputs": [],
   "source": [
    "import pandas as pd\n",
    "df = pd.read_excel('HealthSurvey.xlsx')\n"
   ]
  },
  {
   "cell_type": "code",
   "execution_count": 27,
   "id": "776fddd1-8dbe-4a88-9b87-3b5d9f59cba8",
   "metadata": {},
   "outputs": [
    {
     "data": {
      "text/plain": [
       "Index(['Record Num', 'Gender', 'Age', 'Height', 'Weight',\n",
       "       'Family_Member_Overweight', 'High_Calorie_Intake', 'Eat_Vegetables',\n",
       "       'Num_Daily_Meals', 'Between_Meals', 'Smoker', 'Daily_Water',\n",
       "       'Calories_Monitored', 'Physical_Activity', 'Time_Using_Tech',\n",
       "       'Alcohol_Frequency', 'Transportation', 'BMI', 'Classification'],\n",
       "      dtype='object')"
      ]
     },
     "execution_count": 27,
     "metadata": {},
     "output_type": "execute_result"
    }
   ],
   "source": [
    "df.columns"
   ]
  },
  {
   "cell_type": "code",
   "execution_count": 28,
   "id": "b7ecbf58-5f66-426a-b5c8-7f913a7cb73b",
   "metadata": {},
   "outputs": [
    {
     "name": "stdout",
     "output_type": "stream",
     "text": [
      "count    622.000000\n",
      "mean      25.130887\n",
      "std        6.130625\n",
      "min       14.189108\n",
      "25%       19.531250\n",
      "50%       25.370362\n",
      "75%       29.377948\n",
      "max       45.179103\n",
      "Name: BMI, dtype: float64\n"
     ]
    }
   ],
   "source": [
    "summary_bmi = df['BMI'].describe()\n",
    "print(summary_bmi)"
   ]
  },
  {
   "cell_type": "code",
   "execution_count": 70,
   "id": "08995e93-0a18-46d4-9504-ea6acd504e50",
   "metadata": {},
   "outputs": [
    {
     "name": "stdout",
     "output_type": "stream",
     "text": [
      "Mean BMI: 25.13\n",
      "Standard Error of BMI: 0.25\n",
      "Median BMI: 25.37\n",
      "Mode BMI: 17.94\n",
      "Standard Deviation of BMI: 6.13\n",
      "Sample Variance of BMI: 37.58\n",
      "Kurtosis of BMI: 0.23\n",
      "Skewness of BMI: 0.55\n",
      "Range of BMI: 30.99\n",
      "Minimum BMI: 14.19\n",
      "Maximum BMI: 45.18\n",
      "Sum of BMI: 15631.41\n",
      "Count of BMI: 622\n",
      "95% Confidence Interval of BMI: (24.65, 25.61)\n"
     ]
    }
   ],
   "source": [
    "import pandas as pd\n",
    "import numpy as np\n",
    "from scipy import stats\n",
    "\n",
    "# Assuming df is your DataFrame containing the BMI data\n",
    "# Replace 'your_column_name' with the actual column name if needed\n",
    "\n",
    "# Calculate Mean\n",
    "mean_bmi = df['BMI'].mean()\n",
    "\n",
    "# Calculate Standard Error\n",
    "se_bmi = stats.sem(df['BMI'])\n",
    "\n",
    "# Calculate Median\n",
    "median_bmi = df['BMI'].median()\n",
    "\n",
    "# Calculate Mode\n",
    "mode_bmi = df['BMI'].mode()\n",
    "\n",
    "# Calculate Standard Deviation\n",
    "std_dev_bmi = df['BMI'].std()\n",
    "\n",
    "# Calculate Sample Variance\n",
    "variance_bmi = df['BMI'].var()\n",
    "\n",
    "# Calculate Kurtosis\n",
    "kurtosis_bmi = df['BMI'].kurtosis()\n",
    "\n",
    "# Calculate Skewness\n",
    "skewness_bmi = df['BMI'].skew()\n",
    "\n",
    "# Calculate Range\n",
    "range_bmi = df['BMI'].max() - df['BMI'].min()\n",
    "\n",
    "# Calculate Minimum\n",
    "min_bmi = df['BMI'].min()\n",
    "\n",
    "# Calculate Maximum\n",
    "max_bmi = df['BMI'].max()\n",
    "\n",
    "# Calculate Sum\n",
    "sum_bmi = df['BMI'].sum()\n",
    "\n",
    "# Calculate Count\n",
    "count_bmi = df['BMI'].count()\n",
    "\n",
    "# Calculate Confidence Level (95%) values\n",
    "conf_interval = stats.t.interval(0.95, count_bmi - 1, loc=mean_bmi, scale=se_bmi)\n",
    "\n",
    "# Print the results\n",
    "print(f\"Mean BMI: {mean_bmi:.2f}\")\n",
    "print(f\"Standard Error of BMI: {se_bmi:.2f}\")\n",
    "print(f\"Median BMI: {median_bmi:.2f}\")\n",
    "print(f\"Mode BMI: {mode_bmi[0]:.2f}\")\n",
    "print(f\"Standard Deviation of BMI: {std_dev_bmi:.2f}\")\n",
    "print(f\"Sample Variance of BMI: {variance_bmi:.2f}\")\n",
    "print(f\"Kurtosis of BMI: {kurtosis_bmi:.2f}\")\n",
    "print(f\"Skewness of BMI: {skewness_bmi:.2f}\")\n",
    "print(f\"Range of BMI: {range_bmi:.2f}\")\n",
    "print(f\"Minimum BMI: {min_bmi:.2f}\")\n",
    "print(f\"Maximum BMI: {max_bmi:.2f}\")\n",
    "print(f\"Sum of BMI: {sum_bmi:.2f}\")\n",
    "print(f\"Count of BMI: {count_bmi}\")\n",
    "print(f\"95% Confidence Interval of BMI: ({conf_interval[0]:.2f}, {conf_interval[1]:.2f})\")\n"
   ]
  },
  {
   "cell_type": "code",
   "execution_count": 71,
   "id": "e71dba24-53a2-4ac6-86fc-51495cce9033",
   "metadata": {},
   "outputs": [
    {
     "name": "stdout",
     "output_type": "stream",
     "text": [
      "  BMI Range  Frequency  Cumulative Frequency  Cumulative Percentage\n",
      "0  (25, 30]        195                 195.0              31.350482\n",
      "1  (15, 20]        161                 356.0              57.234727\n",
      "2  (20, 25]        126                 482.0              77.491961\n",
      "3  (30, 35]        112                 594.0              95.498392\n",
      "4  (40, 45]         13                 607.0              97.588424\n",
      "5  (35, 40]         12                 619.0              99.517685\n",
      "6      More          3                   NaN                    NaN\n"
     ]
    }
   ],
   "source": [
    "import pandas as pd\n",
    "\n",
    "# Assuming df is your DataFrame containing the BMI data\n",
    "# Replace 'your_column_name' with the actual column name if needed\n",
    "\n",
    "# Define the bins for BMI values\n",
    "bins = [15, 20, 25, 30, 35, 40, 45]\n",
    "\n",
    "# Create a frequency table with specified bins\n",
    "frequency_table = pd.cut(df['BMI'], bins=bins).value_counts().reset_index()\n",
    "frequency_table.columns = ['BMI Range', 'Frequency']\n",
    "\n",
    "# Calculate cumulative frequency and cumulative percentage\n",
    "frequency_table['Cumulative Frequency'] = frequency_table['Frequency'].cumsum()\n",
    "frequency_table['Cumulative Percentage'] = (frequency_table['Cumulative Frequency'] / len(df)) * 100\n",
    "\n",
    "# Add a row for \"More\" category\n",
    "more_row = pd.DataFrame({'BMI Range': ['More'], 'Frequency': [len(df) - frequency_table['Frequency'].sum()]})\n",
    "frequency_table = pd.concat([frequency_table, more_row], ignore_index=True)\n",
    "\n",
    "# Display the frequency distribution table\n",
    "print(frequency_table)\n"
   ]
  },
  {
   "cell_type": "code",
   "execution_count": 72,
   "id": "115bdbac-ef3b-4eb1-a631-eebebc8ec33b",
   "metadata": {},
   "outputs": [
    {
     "data": {
      "image/png": "[encoded data removed]",
      "text/plain": [
       "<Figure size 432x288 with 1 Axes>"
      ]
     },
     "metadata": {
      "needs_background": "light"
     },
     "output_type": "display_data"
    }
   ],
   "source": [
    "import matplotlib.pyplot as plt\n",
    "import numpy as np\n",
    "\n",
    "# Assuming df is your DataFrame containing the BMI data\n",
    "# Replace 'your_column_name' with the actual column name if needed\n",
    "\n",
    "# Define the bins for BMI values\n",
    "bins = [15, 20, 25, 30, 35, 40, 45]\n",
    "\n",
    "# Create the histogram\n",
    "plt.hist(df['BMI'], bins=bins, edgecolor='black', cumulative=True, density=True, alpha=0.6, color='blue')\n",
    "\n",
    "# Add a cumulative line\n",
    "n, bins, patches = plt.hist(df['BMI'], bins=bins, edgecolor='black', cumulative=True, density=True, alpha=0)\n",
    "cumulative_values = np.cumsum(n) * np.diff(bins)\n",
    "plt.plot(bins[:-1], cumulative_values, marker='o', linestyle='-', color='red', label='Cumulative')\n",
    "\n",
    "# Add labels and title\n",
    "plt.xlabel('BMI')\n",
    "plt.ylabel('Frequency')\n",
    "plt.title('BMI Distribution with Cumulative Line')\n",
    "plt.legend()\n",
    "\n",
    "# Show the plot\n",
    "plt.grid(axis='y', linestyle='--', alpha=0.7)\n",
    "plt.show()\n"
   ]
  },
  {
   "cell_type": "code",
   "execution_count": 69,
   "id": "e5ac44eb-fead-4a84-aec2-bf2a87a407b1",
   "metadata": {},
   "outputs": [
    {
     "data": {
      "image/png": "[encoded data removed]",
      "text/plain": [
       "<Figure size 432x288 with 1 Axes>"
      ]
     },
     "metadata": {
      "needs_background": "light"
     },
     "output_type": "display_data"
    },
    {
     "name": "stdout",
     "output_type": "stream",
     "text": [
      "           BMI  Frequency\n",
      "0    17.941817          9\n",
      "1    25.390625          8\n",
      "2    25.945484          7\n",
      "3    26.234568          6\n",
      "4    17.578125          6\n",
      "..         ...        ...\n",
      "424  28.734694          1\n",
      "425  35.379578          1\n",
      "426  24.323229          1\n",
      "427  17.146776          1\n",
      "428  26.271345          1\n",
      "\n",
      "[429 rows x 2 columns]\n"
     ]
    }
   ],
   "source": [
    "import matplotlib.pyplot as plt\n",
    "\n",
    "# Assuming your data is in a DataFrame called df\n",
    "# Create a frequency distribution table\n",
    "frequency_table = df['BMI'].value_counts().reset_index()\n",
    "frequency_table.columns = ['BMI', 'Frequency']\n",
    "\n",
    "# Create a histogram\n",
    "plt.hist(df['BMI'], bins=6, edgecolor='k')\n",
    "plt.xlabel('BMI')\n",
    "plt.ylabel('Frequency')\n",
    "plt.title('BMI Histogram')\n",
    "plt.show()\n",
    "\n",
    "# Display the frequency table\n",
    "print(frequency_table)"
   ]
  },
  {
   "cell_type": "code",
   "execution_count": 73,
   "id": "de1353ab-a070-477d-9037-615b70547a09",
   "metadata": {},
   "outputs": [
    {
     "data": {
      "image/png": "[encoded data removed]",
      "text/plain": [
       "<Figure size 432x288 with 1 Axes>"
      ]
     },
     "metadata": {
      "needs_background": "light"
     },
     "output_type": "display_data"
    }
   ],
   "source": [
    "import matplotlib.pyplot as plt\n",
    "\n",
    "# Assuming df is your DataFrame containing the BMI data\n",
    "# Replace 'your_column_name' with the actual column name if needed\n",
    "\n",
    "# Define the bins for BMI values\n",
    "bins = [15, 20, 25, 30, 35, 40, 45]\n",
    "\n",
    "# Create a boxplot\n",
    "plt.boxplot([df['BMI']], vert=False, labels=['BMI'], showfliers=False)\n",
    "\n",
    "# Add labels and title\n",
    "plt.xlabel('BMI')\n",
    "plt.ylabel('Bins')\n",
    "plt.title('BMI Boxplot with Specified Bins')\n",
    "\n",
    "# Set the x-axis ticks to match the bin boundaries\n",
    "plt.xticks(bins)\n",
    "\n",
    "# Show the plot\n",
    "plt.grid(axis='x', linestyle='--', alpha=0.7)\n",
    "plt.show()\n"
   ]
  },
  {
   "cell_type": "code",
   "execution_count": 29,
   "id": "93aa1731-a5f9-4aaa-81aa-b57b8e7b1937",
   "metadata": {},
   "outputs": [
    {
     "name": "stdout",
     "output_type": "stream",
     "text": [
      "Average BMI: 25.130886890886046\n"
     ]
    }
   ],
   "source": [
    "# Calculate mean BMI\n",
    "mean_bmi = df['BMI'].mean()\n",
    "print(f\"Average BMI: {mean_bmi}\")\n"
   ]
  },
  {
   "cell_type": "code",
   "execution_count": 42,
   "id": "a1e4afe0-bcd1-46ee-95fb-c87c2366294c",
   "metadata": {},
   "outputs": [
    {
     "data": {
      "image/png": "[encoded data removed]",
      "text/plain": [
       "<Figure size 576x432 with 1 Axes>"
      ]
     },
     "metadata": {
      "needs_background": "light"
     },
     "output_type": "display_data"
    }
   ],
   "source": [
    "\n",
    "# Calculate the average BMI\n",
    "average_bmi = df['BMI'].mean()\n",
    "\n",
    "# Create a bar chart\n",
    "plt.figure(figsize=(8, 6))\n",
    "plt.bar(['Average BMI'], [average_bmi], color='blue')\n",
    "plt.xlabel('Category')\n",
    "plt.ylabel('Average BMI')\n",
    "plt.title('Average BMI')\n",
    "plt.ylim(0, 40)  # Adjust the y-axis limits as needed\n",
    "plt.grid(axis='y', linestyle='--', alpha=0.7)\n",
    "\n",
    "# Display the average BMI value on top of the bar\n",
    "plt.text('Average BMI', average_bmi + 0.5, f'{average_bmi:.2f}', ha='center', va='bottom', fontsize=12)\n",
    "\n",
    "plt.show()"
   ]
  },
  {
   "cell_type": "code",
   "execution_count": 74,
   "id": "5ff68b3e-ab72-41d3-bd95-089f5a834a07",
   "metadata": {},
   "outputs": [
    {
     "data": {
      "image/png": "[encoded data removed]",
      "text/plain": [
       "<Figure size 432x288 with 1 Axes>"
      ]
     },
     "metadata": {
      "needs_background": "light"
     },
     "output_type": "display_data"
    }
   ],
   "source": [
    "import matplotlib.pyplot as plt\n",
    "\n",
    "# Assuming df is your DataFrame containing the BMI data\n",
    "# Calculate the average BMI\n",
    "average_bmi = df['BMI'].mean()\n",
    "\n",
    "# Create a bar chart\n",
    "plt.bar(['Average BMI'], [average_bmi])\n",
    "\n",
    "# Add labels and title\n",
    "plt.xlabel('Category')\n",
    "plt.ylabel('BMI')\n",
    "plt.title('Average BMI for Children and Adolescents')\n",
    "\n",
    "# Show the plot\n",
    "plt.show()\n"
   ]
  },
  {
   "cell_type": "code",
   "execution_count": 30,
   "id": "1c91c6d3-b6d5-4fe8-8cc6-78217af8a281",
   "metadata": {},
   "outputs": [
    {
     "name": "stdout",
     "output_type": "stream",
     "text": [
      "Proportion Overweight or Obese: 53.536977491961416%\n"
     ]
    }
   ],
   "source": [
    "# Define BMI categories\n",
    "overweight_or_obese = df['BMI'] >= 25\n",
    "\n",
    "# Calculate proportion of overweight or obese individuals\n",
    "proportion_overweight_or_obese = len(df[overweight_or_obese]) / len(df) * 100\n",
    "print(f\"Proportion Overweight or Obese: {proportion_overweight_or_obese}%\")\n"
   ]
  },
  {
   "cell_type": "code",
   "execution_count": 44,
   "id": "949c405d-ec75-4a35-823e-16c60d512a1d",
   "metadata": {},
   "outputs": [
    {
     "data": {
      "image/png": "[encoded data removed]",
      "text/plain": [
       "<Figure size 576x432 with 1 Axes>"
      ]
     },
     "metadata": {},
     "output_type": "display_data"
    }
   ],
   "source": [
    "# Calculate the proportion of individuals who are overweight or obese\n",
    "overweight_or_obese = df[df['Classification'].isin(['Overweight', 'Obese'])]\n",
    "proportion_overweight_or_obese = len(overweight_or_obese) / len(df) * 100\n",
    "\n",
    "# Calculate the proportion of individuals who are not overweight or obese\n",
    "proportion_not_overweight_or_obese = 100 - proportion_overweight_or_obese\n",
    "\n",
    "# Create a pie chart\n",
    "labels = ['Overweight or Obese', 'Not Overweight or Obese']\n",
    "sizes = [proportion_overweight_or_obese, proportion_not_overweight_or_obese]\n",
    "colors = ['lightcoral', 'lightskyblue']\n",
    "explode = (0.1, 0)  # Explode the first slice (Overweight or Obese)\n",
    "\n",
    "plt.figure(figsize=(8, 6))\n",
    "plt.pie(sizes, explode=explode, labels=labels, colors=colors, autopct='%1.1f%%', shadow=True, startangle=140)\n",
    "plt.title('Proportion of Overweight or Obese Individuals')\n",
    "\n",
    "plt.axis('equal')  # Equal aspect ratio ensures that pie is drawn as a circle.\n",
    "\n",
    "plt.show()\n",
    "\n",
    "\n"
   ]
  },
  {
   "cell_type": "code",
   "execution_count": 82,
   "id": "16fa9cf0-cdc2-4f0a-8137-2073c15f64a0",
   "metadata": {},
   "outputs": [
    {
     "name": "stdout",
     "output_type": "stream",
     "text": [
      "622\n",
      "Sample Proportion (p-hat): 0.5354\n",
      "Z Value: 1.96\n",
      "Standard Error: 0.0200\n",
      "Margin of Error: 0.0392\n",
      "Confidence Interval Lower Limit: 0.4962\n",
      "Confidence Interval Upper Limit: 0.5746\n"
     ]
    }
   ],
   "source": [
    "import numpy as np\n",
    "import scipy.stats as stats\n",
    "\n",
    "# Define the data\n",
    "sample_size = len(df)  # Total number of samples\n",
    "count_overweight_obese = len(df[df['Classification'].isin(['Overweight', 'Obesity I', 'Obesity II', 'Obesity III'])])  # Number of overweight/obese individuals\n",
    "print(sample_size)\n",
    "# Calculate the sample proportion (p-hat)\n",
    "sample_proportion = count_overweight_obese / sample_size\n",
    "\n",
    "# Define the confidence level (e.g., 95%)\n",
    "confidence_level = 0.95\n",
    "\n",
    "# Calculate the Z-value for the desired confidence level\n",
    "z_value = stats.norm.ppf(1 - (1 - confidence_level) / 2)\n",
    "\n",
    "# Calculate the standard error of the proportion\n",
    "standard_error = np.sqrt((sample_proportion * (1 - sample_proportion)) / sample_size)\n",
    "\n",
    "# Calculate the margin of error\n",
    "margin_of_error = z_value * standard_error\n",
    "\n",
    "# Calculate the lower and upper limits of the confidence interval\n",
    "interval_lower_limit = sample_proportion - margin_of_error\n",
    "interval_upper_limit = sample_proportion + margin_of_error\n",
    "\n",
    "# Print the results\n",
    "print(f\"Sample Proportion (p-hat): {sample_proportion:.4f}\")\n",
    "print(f\"Z Value: {z_value:.2f}\")\n",
    "print(f\"Standard Error: {standard_error:.4f}\")\n",
    "print(f\"Margin of Error: {margin_of_error:.4f}\")\n",
    "print(f\"Confidence Interval Lower Limit: {interval_lower_limit:.4f}\")\n",
    "print(f\"Confidence Interval Upper Limit: {interval_upper_limit:.4f}\")\n"
   ]
  },
  {
   "cell_type": "code",
   "execution_count": 84,
   "id": "f0596207-ae87-4f27-9951-8d7593971b5d",
   "metadata": {},
   "outputs": [
    {
     "name": "stdout",
     "output_type": "stream",
     "text": [
      "333\n"
     ]
    }
   ],
   "source": [
    "import pandas as pd\n",
    "\n",
    "# Assuming you have a DataFrame named df\n",
    "# Replace 'Classification' with the column you want to count successes for\n",
    "\n",
    "count_of_successes = len(df[df['Classification'].isin(['Overweight', 'Obesity I', 'Obesity II', 'Obesity III'])])\n",
    "print(count_of_successes)\n"
   ]
  },
  {
   "cell_type": "code",
   "execution_count": 77,
   "id": "67fb525b-670c-4f52-8636-3bf3a4237fdc",
   "metadata": {},
   "outputs": [
    {
     "data": {
      "image/png": "[encoded data removed]",
      "text/plain": [
       "<Figure size 576x288 with 1 Axes>"
      ]
     },
     "metadata": {
      "needs_background": "light"
     },
     "output_type": "display_data"
    }
   ],
   "source": [
    "import matplotlib.pyplot as plt\n",
    "import numpy as np\n",
    "\n",
    "# Sample data\n",
    "confidence_level = 0.95  # Adjust as needed\n",
    "sample_proportion = 0.535  # Replace with your calculated sample proportion\n",
    "margin_of_error = 0.03  # Replace with your calculated margin of error\n",
    "\n",
    "# Calculate the lower and upper limits of the confidence interval\n",
    "lower_limit = sample_proportion - margin_of_error\n",
    "upper_limit = sample_proportion + margin_of_error\n",
    "\n",
    "# Create a horizontal bar graph to represent the confidence interval\n",
    "plt.figure(figsize=(8, 4))\n",
    "plt.barh(y=['Proportion of Overweight or Obese'], width=sample_proportion, color='blue', label='Sample Proportion')\n",
    "plt.errorbar(x=[sample_proportion], y=['Proportion of Overweight or Obese'],\n",
    "             xerr=margin_of_error, fmt='ro', label='Confidence Interval')\n",
    "plt.axvline(x=lower_limit, color='red', linestyle='--')\n",
    "plt.axvline(x=upper_limit, color='red', linestyle='--')\n",
    "\n",
    "# Add labels and title\n",
    "plt.xlabel('Proportion')\n",
    "plt.title('Confidence Interval for Proportion of Overweight or Obese Children and Adolescents')\n",
    "\n",
    "# Set x-axis limits\n",
    "plt.xlim(0, 1)\n",
    "\n",
    "# Add a legend\n",
    "plt.legend()\n",
    "\n",
    "# Show the plot\n",
    "plt.grid(axis='x', linestyle='--', alpha=0.6)\n",
    "plt.show()\n"
   ]
  },
  {
   "cell_type": "code",
   "execution_count": 31,
   "id": "4b958805-1af8-4c0e-b4b6-90161b891e04",
   "metadata": {},
   "outputs": [
    {
     "name": "stdout",
     "output_type": "stream",
     "text": [
      "count             622\n",
      "unique              4\n",
      "top       1 or 2 days\n",
      "freq              233\n",
      "Name: Physical_Activity, dtype: object\n"
     ]
    }
   ],
   "source": [
    "# Assuming 'Physical_Activity' is the column containing physical activity data\n",
    "# Create a summary table of physical activity\n",
    "summary_physical_activity = df['Physical_Activity'].describe()\n",
    "print(summary_physical_activity)\n"
   ]
  },
  {
   "cell_type": "code",
   "execution_count": 93,
   "id": "5fff67f4-3d3a-4e3c-8337-eed7cd88e662",
   "metadata": {},
   "outputs": [
    {
     "name": "stdout",
     "output_type": "stream",
     "text": [
      "      Activity  Frequency\n",
      "0  3 to 5 days          4\n",
      "1  1 or 2 days          4\n",
      "2       0 days          2\n"
     ]
    }
   ],
   "source": [
    "import pandas as pd\n",
    "\n",
    "# Sample data\n",
    "data = {\n",
    "    'Physical_Activity': [\n",
    "        '3 to 5 days', '1 or 2 days', '0 days', '1 or 2 days', '3 to 5 days',\n",
    "        '3 to 5 days', '1 or 2 days', '0 days', '1 or 2 days', '3 to 5 days'\n",
    "    ]\n",
    "}\n",
    "\n",
    "# Create a DataFrame\n",
    "df = pd.DataFrame(data)\n",
    "\n",
    "# Create a frequency table for 'Physical_Activity'\n",
    "frequency_table = df['Physical_Activity'].value_counts().reset_index()\n",
    "frequency_table.columns = ['Activity', 'Frequency']\n",
    "\n",
    "# Print the frequency table\n",
    "print(frequency_table)\n"
   ]
  },
  {
   "cell_type": "code",
   "execution_count": 95,
   "id": "8ff060e6-a0ba-47cc-b73e-dbeb851888d2",
   "metadata": {},
   "outputs": [
    {
     "data": {
      "image/png": "[encoded data removed]",
      "text/plain": [
       "<Figure size 720x432 with 1 Axes>"
      ]
     },
     "metadata": {
      "needs_background": "light"
     },
     "output_type": "display_data"
    }
   ],
   "source": [
    "import pandas as pd\n",
    "import seaborn as sns\n",
    "import matplotlib.pyplot as plt\n",
    "\n",
    "# Sample data\n",
    "data = {\n",
    "    'Physical_Activity': [\n",
    "        '3 to 5 days', '1 or 2 days', '0 days', '1 or 2 days', '3 to 5 days',\n",
    "        '3 to 5 days', '1 or 2 days', '0 days', '1 or 2 days', '3 to 5 days'\n",
    "    ]\n",
    "}\n",
    "\n",
    "# Create a DataFrame\n",
    "df = pd.DataFrame(data)\n",
    "\n",
    "# Create a count plot (bar plot) for 'Physical_Activity'\n",
    "plt.figure(figsize=(10, 6))\n",
    "sns.set(style='darkgrid')  # Set the style of the plot\n",
    "sns.countplot(data=df, y='Physical_Activity', palette='viridis')\n",
    "plt.xlabel('Count')\n",
    "plt.ylabel('Physical Activity')\n",
    "plt.title('Frequency of Physical Activity')\n",
    "plt.tight_layout()\n",
    "\n",
    "# Show the plot\n",
    "plt.show()\n"
   ]
  },
  {
   "cell_type": "code",
   "execution_count": 32,
   "id": "6624413b-b18d-4afc-b283-5bb23b4060c9",
   "metadata": {},
   "outputs": [
    {
     "name": "stdout",
     "output_type": "stream",
     "text": [
      "Differences Among Gender in Physical Activity:\n",
      "Gender  Physical_Activity\n",
      "Female  1 or 2 days          120\n",
      "        0 days                92\n",
      "        3 to 5 days           79\n",
      "        6 or 7 days           20\n",
      "Male    3 to 5 days          104\n",
      "        1 or 2 days          103\n",
      "        0 days                49\n",
      "        6 or 7 days           26\n",
      "Other   3 to 5 days           13\n",
      "        1 or 2 days           10\n",
      "        0 days                 4\n",
      "        6 or 7 days            2\n",
      "Name: Physical_Activity, dtype: int64\n",
      "\n",
      "Differences in BMI Based on Physical Activity:\n",
      "Physical_Activity\n",
      "0 days         24.724649\n",
      "1 or 2 days    27.094927\n",
      "3 to 5 days    23.456553\n",
      "6 or 7 days    23.661151\n",
      "Name: BMI, dtype: float64\n"
     ]
    }
   ],
   "source": [
    "# Differences among gender in terms of physical activity\n",
    "gender_physical_activity = df.groupby('Gender')['Physical_Activity'].value_counts()\n",
    "\n",
    "# Differences in BMI based on physical activity\n",
    "bmi_physical_activity = df.groupby('Physical_Activity')['BMI'].mean()\n",
    "\n",
    "# Output these differences\n",
    "print(\"Differences Among Gender in Physical Activity:\")\n",
    "print(gender_physical_activity)\n",
    "print(\"\\nDifferences in BMI Based on Physical Activity:\")\n",
    "print(bmi_physical_activity)\n"
   ]
  },
  {
   "cell_type": "code",
   "execution_count": 46,
   "id": "6e4b1b6a-6b76-4380-9579-cc3caf03d3c1",
   "metadata": {},
   "outputs": [
    {
     "data": {
      "image/png": "[encoded data removed]",
      "text/plain": [
       "<Figure size 432x288 with 1 Axes>"
      ]
     },
     "metadata": {
      "needs_background": "light"
     },
     "output_type": "display_data"
    }
   ],
   "source": [
    "import seaborn as sns\n",
    "\n",
    "# Assuming you want to compare BMI by gender\n",
    "sns.boxplot(x='Gender', y='BMI', data=df)\n",
    "plt.xlabel('Gender')\n",
    "plt.ylabel('BMI')\n",
    "plt.title('BMI Distribution by Gender')\n",
    "plt.show()\n"
   ]
  },
  {
   "cell_type": "code",
   "execution_count": 45,
   "id": "65660be9-ccc0-4b5b-8f1b-d9e9e12aaf12",
   "metadata": {},
   "outputs": [
    {
     "data": {
      "image/png": "[encoded data removed]",
      "text/plain": [
       "<Figure size 432x288 with 1 Axes>"
      ]
     },
     "metadata": {
      "needs_background": "light"
     },
     "output_type": "display_data"
    }
   ],
   "source": [
    "# Assuming you want to create a scatter plot for BMI vs. Physical Activity\n",
    "plt.scatter(df['BMI'], df['Physical_Activity'])\n",
    "plt.xlabel('BMI')\n",
    "plt.ylabel('Physical Activity')\n",
    "plt.title('Scatter Plot: BMI vs. Physical Activity')\n",
    "plt.show()\n"
   ]
  },
  {
   "cell_type": "code",
   "execution_count": 60,
   "id": "a36e8d2c-e01d-446f-838e-b00f6ac0df1f",
   "metadata": {},
   "outputs": [
    {
     "name": "stdout",
     "output_type": "stream",
     "text": [
      "                            OLS Regression Results                            \n",
      "==============================================================================\n",
      "Dep. Variable:                    BMI   R-squared:                       0.003\n",
      "Model:                            OLS   Adj. R-squared:                  0.002\n",
      "Method:                 Least Squares   F-statistic:                     1.998\n",
      "Date:                Mon, 11 Sep 2023   Prob (F-statistic):              0.158\n",
      "Time:                        14:39:43   Log-Likelihood:                -2008.9\n",
      "No. Observations:                 622   AIC:                             4022.\n",
      "Df Residuals:                     620   BIC:                             4031.\n",
      "Df Model:                           1                                         \n",
      "Covariance Type:            nonrobust                                         \n",
      "==============================================================================\n",
      "                 coef    std err          t      P>|t|      [0.025      0.975]\n",
      "------------------------------------------------------------------------------\n",
      "const         19.1467      4.240      4.515      0.000      10.819      27.474\n",
      "Age            0.3222      0.228      1.414      0.158      -0.125       0.770\n",
      "==============================================================================\n",
      "Omnibus:                       27.393   Durbin-Watson:                   1.880\n",
      "Prob(Omnibus):                  0.000   Jarque-Bera (JB):               29.899\n",
      "Skew:                           0.531   Prob(JB):                     3.22e-07\n",
      "Kurtosis:                       3.161   Cond. No.                         322.\n",
      "==============================================================================\n",
      "\n",
      "Notes:\n",
      "[1] Standard Errors assume that the covariance matrix of the errors is correctly specified.\n"
     ]
    }
   ],
   "source": [
    "import statsmodels.api as sm\n",
    "\n",
    "# Add a constant (intercept) to the independent variable (Age)\n",
    "X = sm.add_constant(df['Age'])\n",
    "\n",
    "# Dependent variable (BMI)\n",
    "y = df['BMI']\n",
    "\n",
    "# Fit a linear regression model\n",
    "model = sm.OLS(y, X).fit()\n",
    "\n",
    "# Get the summary of the regression results\n",
    "summary = model.summary()\n",
    "\n",
    "# Print the summary\n",
    "print(summary)\n"
   ]
  },
  {
   "cell_type": "code",
   "execution_count": 65,
   "id": "4cebe4db-a412-46dc-83ae-0868145b2146",
   "metadata": {},
   "outputs": [
    {
     "data": {
      "image/png": "[encoded data removed]",
      "text/plain": [
       "<Figure size 720x432 with 1 Axes>"
      ]
     },
     "metadata": {
      "needs_background": "light"
     },
     "output_type": "display_data"
    }
   ],
   "source": [
    "# Create a scatter plot to visualize the relationship between age and BMI\n",
    "plt.figure(figsize=(10, 6))\n",
    "plt.scatter(df['Age'], df['BMI'], alpha=0.5, color='b')\n",
    "plt.xlabel('Age')\n",
    "plt.ylabel('BMI')\n",
    "plt.title('Relationship Between Age and BMI')\n",
    "plt.grid(True)\n",
    "\n",
    "plt.show()"
   ]
  },
  {
   "cell_type": "code",
   "execution_count": 50,
   "id": "46949b5f-5408-422c-a41a-0592bcb9d4e4",
   "metadata": {},
   "outputs": [
    {
     "name": "stdout",
     "output_type": "stream",
     "text": [
      "Percentage of Children and Adolescents Classified as Overweight or Obese: 53.536977491961416%\n"
     ]
    }
   ],
   "source": [
    "# Assuming 'Age' is the column containing age data\n",
    "# Check if children and adolescents are, on average, classified as overweight or obese (BMI >= 25)\n",
    "average_bmi_classification = (df['BMI'] >= 25).mean() * 100\n",
    "print(f\"Percentage of Children and Adolescents Classified as Overweight or Obese: {average_bmi_classification}%\")\n"
   ]
  },
  {
   "cell_type": "code",
   "execution_count": 51,
   "id": "48c0dc24-268d-486b-9d59-523790715bea",
   "metadata": {},
   "outputs": [
    {
     "name": "stdout",
     "output_type": "stream",
     "text": [
      "Family_Member_Overweight   No  Yes\n",
      "Gender                            \n",
      "Female                    150  161\n",
      "Male                       57  225\n",
      "Other                      10   19\n"
     ]
    }
   ],
   "source": [
    "# Assuming you want to create a contingency table for Gender vs. Family_Member_Overweight\n",
    "cross_tab = pd.crosstab(df['Gender'], df['Family_Member_Overweight'])\n",
    "print(cross_tab)\n"
   ]
  },
  {
   "cell_type": "code",
   "execution_count": 61,
   "id": "1edef5d6-a5e4-4731-a26f-42937afa9a6d",
   "metadata": {},
   "outputs": [
    {
     "data": {
      "image/png": "[encoded data removed]",
      "text/plain": [
       "<Figure size 432x288 with 1 Axes>"
      ]
     },
     "metadata": {},
     "output_type": "display_data"
    }
   ],
   "source": [
    "# Assuming you want to create a pie chart for Family_Member_Overweight\n",
    "labels = df['Family_Member_Overweight'].value_counts().index\n",
    "sizes = df['Family_Member_Overweight'].value_counts().values\n",
    "\n",
    "plt.pie(sizes, labels=labels, autopct='%1.1f%%', startangle=140)\n",
    "plt.axis('equal')  # Equal aspect ratio ensures that pie is drawn as a circle.\n",
    "plt.title('Proportion of Family Members Overweight')\n",
    "plt.show()\n"
   ]
  },
  {
   "cell_type": "code",
   "execution_count": 63,
   "id": "4d59a65d-3b85-4f45-a057-dc26110b2484",
   "metadata": {},
   "outputs": [
    {
     "name": "stdout",
     "output_type": "stream",
     "text": [
      "Chi-Squared Statistic: 51.11364092949622\n",
      "P-Value: 7.958182552054029e-12\n",
      "Degrees of Freedom: 2\n",
      "Expected Frequencies Table:\n",
      "[[108.5        202.5       ]\n",
      " [ 98.38263666 183.61736334]\n",
      " [ 10.11736334  18.88263666]]\n",
      "There is a significant association between gender and family member overweight status.\n"
     ]
    }
   ],
   "source": [
    "import scipy.stats as stats\n",
    "\n",
    "# Create a contingency table as a DataFrame\n",
    "import pandas as pd\n",
    "data = {'Family_Member_Overweight': ['No', 'Yes', 'No', 'Yes', 'No', 'Yes'],\n",
    "        'Gender': ['Female', 'Female', 'Male', 'Male', 'Other', 'Other'],\n",
    "        'Count': [150, 161, 57, 225, 10, 19]}\n",
    "contingency_table = pd.DataFrame(data)\n",
    "\n",
    "# Pivot the table for the chi-squared test\n",
    "pivot_table = pd.pivot_table(contingency_table, values='Count', index='Gender', columns='Family_Member_Overweight', aggfunc='sum')\n",
    "\n",
    "# Perform the chi-squared test\n",
    "chi2, p, dof, expected = stats.chi2_contingency(pivot_table)\n",
    "\n",
    "# Print the results\n",
    "print(\"Chi-Squared Statistic:\", chi2)\n",
    "print(\"P-Value:\", p)\n",
    "print(\"Degrees of Freedom:\", dof)\n",
    "print(\"Expected Frequencies Table:\")\n",
    "print(expected)\n",
    "\n",
    "# Interpret the results\n",
    "alpha = 0.05  # Significance level\n",
    "if p < alpha:\n",
    "    print(\"There is a significant association between gender and family member overweight status.\")\n",
    "else:\n",
    "    print(\"There is no significant association between gender and family member overweight status.\")\n"
   ]
  },
  {
   "cell_type": "code",
   "execution_count": 64,
   "id": "2c257854-a935-4200-92bf-4e14d6d28a22",
   "metadata": {},
   "outputs": [
    {
     "name": "stdout",
     "output_type": "stream",
     "text": [
      "The average BMI of children and adolescents is 25.13, which means they are classified as overweight or obese (BMI >= 25).\n"
     ]
    }
   ],
   "source": [
    "# Calculate the average BMI\n",
    "average_bmi = df['BMI'].mean()\n",
    "\n",
    "# Define the BMI threshold\n",
    "bmi_threshold = 25\n",
    "\n",
    "# Compare the average BMI to the threshold\n",
    "if average_bmi >= bmi_threshold:\n",
    "    print(f\"The average BMI of children and adolescents is {average_bmi:.2f}, which means they are classified as overweight or obese (BMI >= {bmi_threshold}).\")\n",
    "else:\n",
    "    print(f\"The average BMI of children and adolescents is {average_bmi:.2f}, which means they are not classified as overweight or obese (BMI < {bmi_threshold}).\")\n"
   ]
  },
  {
   "cell_type": "code",
   "execution_count": 52,
   "id": "3ce86035-61a7-4f84-9f74-f4b0502cd8d9",
   "metadata": {},
   "outputs": [
    {
     "name": "stdout",
     "output_type": "stream",
     "text": [
      "Proportion of children and adolescents eating more than 3 meals a day: 13.99%\n"
     ]
    }
   ],
   "source": [
    "# Define a function to check if a value represents more than 3 meals\n",
    "def is_more_than_3_meals(value):\n",
    "    if isinstance(value, str):\n",
    "        return \"more than 3\" in value.lower()\n",
    "    elif isinstance(value, int) and value > 3:\n",
    "        return True\n",
    "    else:\n",
    "        return False\n",
    "\n",
    "# Filter the rows where Num_Daily_Meals represents more than 3 meals\n",
    "more_than_3_meals = df[df['Num_Daily_Meals'].apply(is_more_than_3_meals)]\n",
    "\n",
    "# Calculate the proportion\n",
    "proportion_more_than_3_meals = len(more_than_3_meals) / len(df)\n",
    "\n",
    "# Print the proportion\n",
    "print(f\"Proportion of children and adolescents eating more than 3 meals a day: {proportion_more_than_3_meals:.2%}\")"
   ]
  },
  {
   "cell_type": "code",
   "execution_count": 54,
   "id": "7c332e20-9534-4174-8049-382390de99f3",
   "metadata": {},
   "outputs": [
    {
     "data": {
      "image/png": "[encoded data removed]",
      "text/plain": [
       "<Figure size 576x576 with 1 Axes>"
      ]
     },
     "metadata": {},
     "output_type": "display_data"
    }
   ],
   "source": [
    "\n",
    "# Define labels for the pie chart\n",
    "labels = ['More than 3 meals', '3 or fewer meals']\n",
    "\n",
    "# Count the number of rows in each category\n",
    "count_more_than_3_meals = len(more_than_3_meals)\n",
    "count_3_or_fewer_meals = len(df) - count_more_than_3_meals\n",
    "\n",
    "# Create data for the pie chart\n",
    "data = [count_more_than_3_meals, count_3_or_fewer_meals]\n",
    "\n",
    "# Create a pie chart\n",
    "plt.figure(figsize=(8, 8))\n",
    "plt.pie(data, labels=labels, autopct='%1.1f%%', startangle=140)\n",
    "plt.title('Proportion of Children and Adolescents Eating More than 3 Meals a Day')\n",
    "\n",
    "plt.show()\n",
    "\n"
   ]
  },
  {
   "cell_type": "code",
   "execution_count": 35,
   "id": "17efbbd8-86ed-4ee0-a816-1525c43c993b",
   "metadata": {},
   "outputs": [
    {
     "name": "stdout",
     "output_type": "stream",
     "text": [
      "Required Sample Size for BMI: 27\n",
      "Required Sample Size for Physical Activity: 28878\n"
     ]
    }
   ],
   "source": [
    "from statsmodels.stats.power import TTestIndPower\n",
    "\n",
    "# Create an instance of the TTestIndPower class\n",
    "power_analysis = TTestIndPower()\n",
    "\n",
    "# Define parameters for sample size calculation\n",
    "effect_size_bmi = desired_margin_of_error_bmi  # Effect size is set to the desired margin of error for BMI\n",
    "alpha = 0.05  # Significance level\n",
    "power = 0.95  # Desired power level\n",
    "\n",
    "# Perform sample size calculation for BMI\n",
    "sample_size_bmi = power_analysis.solve_power(effect_size=effect_size_bmi, alpha=alpha, power=power,\n",
    "                                             alternative='two-sided')\n",
    "\n",
    "# Define parameters for sample size calculation for physical activity\n",
    "effect_size_physical_activity = desired_margin_of_error_physical_activity / 100  # Convert percentage to decimal\n",
    "# Perform sample size calculation for physical activity\n",
    "sample_size_physical_activity = power_analysis.solve_power(effect_size=effect_size_physical_activity, alpha=alpha, power=power,\n",
    "                                                           alternative='two-sided')\n",
    "\n",
    "print(f\"Required Sample Size for BMI: {sample_size_bmi:.0f}\")\n",
    "print(f\"Required Sample Size for Physical Activity: {sample_size_physical_activity:.0f}\")\n"
   ]
  },
  {
   "cell_type": "code",
   "execution_count": 55,
   "id": "459e0183-4b31-47ef-94b6-b9cb55620f59",
   "metadata": {},
   "outputs": [
    {
     "data": {
      "image/png": "[encoded data removed]",
      "text/plain": [
       "<Figure size 576x432 with 1 Axes>"
      ]
     },
     "metadata": {
      "needs_background": "light"
     },
     "output_type": "display_data"
    }
   ],
   "source": [
    "# Define parameters\n",
    "parameters = ['BMI', 'Physical Activity']\n",
    "sample_sizes = [sample_size_bmi, sample_size_physical_activity]\n",
    "\n",
    "# Create a bar chart\n",
    "plt.figure(figsize=(8, 6))\n",
    "plt.bar(parameters, sample_sizes, color=['blue', 'green'])\n",
    "plt.xlabel('Parameters')\n",
    "plt.ylabel('Required Sample Size')\n",
    "plt.title('Required Sample Size Calculation')\n",
    "plt.ylim(min(sample_sizes) - 50, max(sample_sizes) + 50)  # Adjust the y-axis limits for better visualization\n",
    "\n",
    "# Add labels to the bars\n",
    "for i, sample_size in enumerate(sample_sizes):\n",
    "    plt.text(i, sample_size + 10, f'{sample_size:.0f}', ha='center', va='bottom', fontsize=12)\n",
    "\n",
    "plt.show()"
   ]
  },
  {
   "cell_type": "code",
   "execution_count": 96,
   "id": "5f06a948-c767-431b-8773-bd14221237e5",
   "metadata": {},
   "outputs": [
    {
     "name": "stdout",
     "output_type": "stream",
     "text": [
      "Required Sample Size for BMI: 139\n",
      "Required Sample Size for Physical Activity: 1068\n"
     ]
    }
   ],
   "source": [
    "import scipy.stats as st\n",
    "import numpy as np\n",
    "\n",
    "# Parameters for average BMI estimation\n",
    "desired_margin_bmi = 1  # Desired margin of error for average BMI\n",
    "std_dev_bmi = 6  # Standard deviation of BMI (example value)\n",
    "confidence_level_bmi = 0.95  # Confidence level (e.g., 0.95 for 95% confidence)\n",
    "\n",
    "# Parameters for proportion estimation\n",
    "desired_margin_proportion = 0.03  # Desired margin of error for proportion (3%)\n",
    "p_hat = 0.5  # Estimated proportion (example value, should be based on historical data)\n",
    "confidence_level_proportion = 0.95  # Confidence level (e.g., 0.95 for 95% confidence)\n",
    "\n",
    "# Calculate required sample size for average BMI\n",
    "z_bmi = st.norm.ppf((1 + confidence_level_bmi) / 2)\n",
    "required_sample_size_bmi = ((z_bmi * std_dev_bmi) / desired_margin_bmi) ** 2\n",
    "\n",
    "# Calculate required sample size for proportion\n",
    "z_proportion = st.norm.ppf((1 + confidence_level_proportion) / 2)\n",
    "required_sample_size_proportion = ((z_proportion * np.sqrt(p_hat * (1 - p_hat))) / desired_margin_proportion) ** 2\n",
    "\n",
    "print(f\"Required Sample Size for BMI: {int(np.ceil(required_sample_size_bmi))}\")\n",
    "print(f\"Required Sample Size for Physical Activity: {int(np.ceil(required_sample_size_proportion))}\")\n"
   ]
  },
  {
   "cell_type": "code",
   "execution_count": 97,
   "id": "651ce739-f6d7-4e56-9222-cdf6a3df48c9",
   "metadata": {},
   "outputs": [
    {
     "name": "stdout",
     "output_type": "stream",
     "text": [
      "Required Sample Size: 1068\n"
     ]
    }
   ],
   "source": [
    "import numpy as np\n",
    "import scipy.stats as stats\n",
    "\n",
    "# Define desired margin of error (in proportion, e.g., 0.03 for 3%)\n",
    "desired_margin = 0.03\n",
    "\n",
    "# Define desired confidence level (e.g., 0.95 for 95% confidence)\n",
    "confidence_level = 0.95\n",
    "\n",
    "# Calculate the critical value corresponding to the confidence level\n",
    "z_critical = stats.norm.ppf((1 + confidence_level) / 2)\n",
    "\n",
    "# Calculate the required sample size for a proportion\n",
    "required_sample_size = (z_critical**2 * 0.25) / (desired_margin**2)\n",
    "\n",
    "# Round up to the nearest integer (since sample size must be a whole number)\n",
    "required_sample_size = np.ceil(required_sample_size)\n",
    "\n",
    "print(f\"Required Sample Size: {int(required_sample_size)}\")\n"
   ]
  },
  {
   "cell_type": "code",
   "execution_count": 98,
   "id": "0f0258b5-428f-4024-aa34-aa8a3d4ea228",
   "metadata": {},
   "outputs": [
    {
     "name": "stdout",
     "output_type": "stream",
     "text": [
      "Desired Margin for Proportion: 0.0009\n"
     ]
    }
   ],
   "source": [
    "import numpy as np\n",
    "import scipy.stats as stats\n",
    "\n",
    "# Define desired confidence level (e.g., 0.95 for 95% confidence)\n",
    "confidence_level = 0.95\n",
    "\n",
    "# Calculate the critical value corresponding to the confidence level\n",
    "z_critical = stats.norm.ppf((1 + confidence_level) / 2)\n",
    "\n",
    "# Calculate the desired margin for a proportion\n",
    "desired_margin = (z_critical**2) / (4 * required_sample_size)\n",
    "\n",
    "print(f\"Desired Margin for Proportion: {desired_margin:.4f}\")\n"
   ]
  },
  {
   "cell_type": "code",
   "execution_count": 56,
   "id": "f1e9a6fa-9e7c-446a-b462-6120830565c0",
   "metadata": {},
   "outputs": [
    {
     "data": {
      "image/png": "[encoded data removed]",
      "text/plain": [
       "<Figure size 720x432 with 1 Axes>"
      ]
     },
     "metadata": {
      "needs_background": "light"
     },
     "output_type": "display_data"
    }
   ],
   "source": [
    "# Plot a histogram for BMI\n",
    "plt.figure(figsize=(10, 6))\n",
    "plt.hist(df['BMI'], bins=20, color='skyblue', edgecolor='black')\n",
    "plt.xlabel('BMI')\n",
    "plt.ylabel('Frequency')\n",
    "plt.title('Histogram of BMI for Children and Adolescents')\n",
    "plt.grid(True)\n",
    "plt.show()"
   ]
  },
  {
   "cell_type": "code",
   "execution_count": 99,
   "id": "b46fb06c-ab25-44d0-9141-e0e2dcfa4402",
   "metadata": {},
   "outputs": [
    {
     "name": "stdout",
     "output_type": "stream",
     "text": [
      "Desired Margin for Proportion: 0.0009\n"
     ]
    }
   ],
   "source": [
    "import numpy as np\n",
    "import scipy.stats as stats\n",
    "\n",
    "# Define desired confidence level (e.g., 0.95 for 95% confidence)\n",
    "confidence_level = 0.95\n",
    "\n",
    "# Calculate the critical value corresponding to the confidence level\n",
    "z_critical = stats.norm.ppf((1 + confidence_level) / 2)\n",
    "\n",
    "# Calculate the desired margin for a proportion\n",
    "desired_margin = (z_critical**2) / (4 * required_sample_size)\n",
    "\n",
    "# Print the desired margin for proportion\n",
    "print(f\"Desired Margin for Proportion: {desired_margin:.4f}\")\n"
   ]
  },
  {
   "cell_type": "code",
   "execution_count": null,
   "id": "cd3d866b-8809-4fb3-960c-0e1a426d03a0",
   "metadata": {},
   "outputs": [],
   "source": []
  }
 ],
 "metadata": {
  "kernelspec": {
   "display_name": "Python 3 (ipykernel)",
   "language": "python",
   "name": "python3"
  },
  "language_info": {
   "codemirror_mode": {
    "name": "ipython",
    "version": 3
   },
   "file_extension": ".py",
   "mimetype": "text/x-python",
   "name": "python",
   "nbconvert_exporter": "python",
   "pygments_lexer": "ipython3",
   "version": "3.11.0"
  }
 },
 "nbformat": 4,
 "nbformat_minor": 5
}
