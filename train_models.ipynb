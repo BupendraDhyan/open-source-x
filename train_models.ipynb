{
 "cells": [
  {
   "cell_type": "code",
   "execution_count": 10,
   "id": "ac5abc96-4047-4f0e-ae87-2a54cdad3d3b",
   "metadata": {
    "tags": []
   },
   "outputs": [],
   "source": [
    "# train_models.py\n",
    "\n",
    "from sklearn.linear_model import LinearRegression\n",
    "from sklearn.metrics import mean_squared_error\n",
    "from sklearn.model_selection import train_test_split\n",
    "from sklearn.preprocessing import LabelEncoder\n",
    "\n",
    "import pandas as pd\n",
    "\n"
   ]
  },
  {
   "cell_type": "code",
   "execution_count": 11,
   "id": "06b40f84-0185-40f9-bc8f-b07c2ccd28c5",
   "metadata": {
    "tags": []
   },
   "outputs": [],
   "source": [
    "\n",
    "# Load the preprocessed data\n",
    "data = pd.read_csv('../../data/processed_data.csv')"
   ]
  },
  {
   "cell_type": "code",
   "execution_count": 12,
   "id": "977f95d1-687a-4170-96b7-0de5eacf3da9",
   "metadata": {
    "tags": []
   },
   "outputs": [
    {
     "name": "stdout",
     "output_type": "stream",
     "text": [
      "Index(['item_code', 'invoice_num', 'invoice_time', 'item_qty',\n",
      "       'item_sub_segment', 'item_segment', 'item_category',\n",
      "       'item_sub_department', 'item_department', 'Primary Key'],\n",
      "      dtype='object')\n"
     ]
    }
   ],
   "source": [
    "print(data.columns)"
   ]
  },
  {
   "cell_type": "code",
   "execution_count": 13,
   "id": "be2ed0b9-af6e-4544-b180-4d6797825780",
   "metadata": {
    "tags": []
   },
   "outputs": [
    {
     "data": {
      "text/html": [
       "<div>\n",
       "<style scoped>\n",
       "    .dataframe tbody tr th:only-of-type {\n",
       "        vertical-align: middle;\n",
       "    }\n",
       "\n",
       "    .dataframe tbody tr th {\n",
       "        vertical-align: top;\n",
       "    }\n",
       "\n",
       "    .dataframe thead th {\n",
       "        text-align: right;\n",
       "    }\n",
       "</style>\n",
       "<table border=\"1\" class=\"dataframe\">\n",
       "  <thead>\n",
       "    <tr style=\"text-align: right;\">\n",
       "      <th></th>\n",
       "      <th>item_code</th>\n",
       "      <th>invoice_num</th>\n",
       "      <th>invoice_time</th>\n",
       "      <th>item_qty</th>\n",
       "      <th>item_sub_segment</th>\n",
       "      <th>item_segment</th>\n",
       "      <th>item_category</th>\n",
       "      <th>item_sub_department</th>\n",
       "      <th>item_department</th>\n",
       "      <th>Primary Key</th>\n",
       "    </tr>\n",
       "  </thead>\n",
       "  <tbody>\n",
       "    <tr>\n",
       "      <th>0</th>\n",
       "      <td>1080988</td>\n",
       "      <td>4989509</td>\n",
       "      <td>2022-03-11 09:37:02+00:00</td>\n",
       "      <td>1.0</td>\n",
       "      <td>Packets</td>\n",
       "      <td>Hen Eggs</td>\n",
       "      <td>Eggs</td>\n",
       "      <td>Eggs</td>\n",
       "      <td>Grocery</td>\n",
       "      <td>1080988_2022-03-11_9</td>\n",
       "    </tr>\n",
       "    <tr>\n",
       "      <th>1</th>\n",
       "      <td>1080988</td>\n",
       "      <td>2125081</td>\n",
       "      <td>2022-03-11 18:56:29+00:00</td>\n",
       "      <td>1.0</td>\n",
       "      <td>Packets</td>\n",
       "      <td>Hen Eggs</td>\n",
       "      <td>Eggs</td>\n",
       "      <td>Eggs</td>\n",
       "      <td>Grocery</td>\n",
       "      <td>1080988_2022-03-11_18</td>\n",
       "    </tr>\n",
       "    <tr>\n",
       "      <th>2</th>\n",
       "      <td>1080988</td>\n",
       "      <td>9370252</td>\n",
       "      <td>2022-03-11 18:21:58+00:00</td>\n",
       "      <td>1.0</td>\n",
       "      <td>Packets</td>\n",
       "      <td>Hen Eggs</td>\n",
       "      <td>Eggs</td>\n",
       "      <td>Eggs</td>\n",
       "      <td>Grocery</td>\n",
       "      <td>1080988_2022-03-11_18</td>\n",
       "    </tr>\n",
       "    <tr>\n",
       "      <th>3</th>\n",
       "      <td>1080988</td>\n",
       "      <td>Z003000</td>\n",
       "      <td>2022-03-11 13:41:34+00:00</td>\n",
       "      <td>4.0</td>\n",
       "      <td>Packets</td>\n",
       "      <td>Hen Eggs</td>\n",
       "      <td>Eggs</td>\n",
       "      <td>Eggs</td>\n",
       "      <td>Grocery</td>\n",
       "      <td>1080988_2022-03-11_13</td>\n",
       "    </tr>\n",
       "    <tr>\n",
       "      <th>4</th>\n",
       "      <td>1080988</td>\n",
       "      <td>5830278</td>\n",
       "      <td>2022-03-11 19:11:50+00:00</td>\n",
       "      <td>1.0</td>\n",
       "      <td>Packets</td>\n",
       "      <td>Hen Eggs</td>\n",
       "      <td>Eggs</td>\n",
       "      <td>Eggs</td>\n",
       "      <td>Grocery</td>\n",
       "      <td>1080988_2022-03-11_19</td>\n",
       "    </tr>\n",
       "  </tbody>\n",
       "</table>\n",
       "</div>"
      ],
      "text/plain": [
       "   item_code invoice_num               invoice_time  item_qty  \\\n",
       "0    1080988     4989509  2022-03-11 09:37:02+00:00       1.0   \n",
       "1    1080988     2125081  2022-03-11 18:56:29+00:00       1.0   \n",
       "2    1080988     9370252  2022-03-11 18:21:58+00:00       1.0   \n",
       "3    1080988     Z003000  2022-03-11 13:41:34+00:00       4.0   \n",
       "4    1080988     5830278  2022-03-11 19:11:50+00:00       1.0   \n",
       "\n",
       "  item_sub_segment item_segment item_category item_sub_department  \\\n",
       "0          Packets     Hen Eggs          Eggs                Eggs   \n",
       "1          Packets     Hen Eggs          Eggs                Eggs   \n",
       "2          Packets     Hen Eggs          Eggs                Eggs   \n",
       "3          Packets     Hen Eggs          Eggs                Eggs   \n",
       "4          Packets     Hen Eggs          Eggs                Eggs   \n",
       "\n",
       "  item_department            Primary Key  \n",
       "0         Grocery   1080988_2022-03-11_9  \n",
       "1         Grocery  1080988_2022-03-11_18  \n",
       "2         Grocery  1080988_2022-03-11_18  \n",
       "3         Grocery  1080988_2022-03-11_13  \n",
       "4         Grocery  1080988_2022-03-11_19  "
      ]
     },
     "execution_count": 13,
     "metadata": {},
     "output_type": "execute_result"
    }
   ],
   "source": [
    "data.head()"
   ]
  },
  {
   "cell_type": "code",
   "execution_count": 14,
   "id": "2b18d22c-dfc4-4cab-911d-0897c71d9545",
   "metadata": {
    "tags": []
   },
   "outputs": [
    {
     "data": {
      "text/plain": [
       "0    1080988\n",
       "1    1080988\n",
       "2    1080988\n",
       "3    1080988\n",
       "4    1080988\n",
       "Name: item_code, dtype: int64"
      ]
     },
     "execution_count": 14,
     "metadata": {},
     "output_type": "execute_result"
    }
   ],
   "source": [
    "data['item_code'].head()"
   ]
  },
  {
   "cell_type": "code",
   "execution_count": 15,
   "id": "529b84f7-471a-4468-9478-0476821687a1",
   "metadata": {
    "tags": []
   },
   "outputs": [
    {
     "name": "stdout",
     "output_type": "stream",
     "text": [
      "item_code                   0\n",
      "invoice_num             11302\n",
      "invoice_time           352751\n",
      "item_qty                    0\n",
      "item_sub_segment       352751\n",
      "item_segment           352751\n",
      "item_category          352751\n",
      "item_sub_department    352751\n",
      "item_department        352751\n",
      "Primary Key            352751\n",
      "dtype: int64\n"
     ]
    }
   ],
   "source": [
    "non_numeric_values = data.apply(pd.to_numeric, errors='coerce').isnull().sum()\n",
    "print(non_numeric_values)\n"
   ]
  },
  {
   "cell_type": "code",
   "execution_count": 16,
   "id": "1542971d-a53b-4ecd-9f5e-c99c7dbe2943",
   "metadata": {
    "tags": []
   },
   "outputs": [],
   "source": [
    "label_encoder = LabelEncoder()\n",
    "categorical_columns = ['item_sub_segment', 'item_segment', 'item_category', 'item_sub_department', 'item_department','invoice_num']\n",
    "for column in categorical_columns:\n",
    "    data[column] = label_encoder.fit_transform(data[column])\n",
    "# Preprocess the 'invoice_time' column\n",
    "data['invoice_time'] = pd.to_datetime(data['invoice_time'])\n",
    "data['year'] = data['invoice_time'].dt.year\n",
    "data['month'] = data['invoice_time'].dt.month\n",
    "data['day'] = data['invoice_time'].dt.day\n",
    "data['hour'] = data['invoice_time'].dt.hour\n",
    "data['day_of_week'] = data['invoice_time'].dt.dayofweek  # 0 = Monday, 6 = Sunday\n"
   ]
  },
  {
   "cell_type": "code",
   "execution_count": 17,
   "id": "cf17e7b3-9f36-49ae-94d8-ac6517b55bb4",
   "metadata": {
    "tags": []
   },
   "outputs": [],
   "source": [
    "label_encoder = LabelEncoder()\n",
    "data['item_code'] = label_encoder.fit_transform(data['item_code'])\n",
    "\n",
    "# Take a smaller subset of the data, for example, the first 5000 rows\n",
    "data = data.iloc[:5000]\n",
    "\n",
    "def split_data(data, target_column, test_size=0.2, random_state=42):\n",
    "    X = data.drop(target_column, axis=1)\n",
    "    y = data[target_column]\n",
    "    X_train, X_test, y_train, y_test = train_test_split(X, y, test_size=test_size, random_state=random_state)\n",
    "    return X_train, X_test, y_train, y_test\n",
    "\n",
    "# Define the target variable\n",
    "target_variable = 'item_qty'\n",
    "features = ['year', 'month', 'day', 'hour', 'day_of_week']  # Include other features as needed\n",
    "\n",
    "X = data[features]\n",
    "y = data[target_variable]\n",
    "X_train, X_test, y_train, y_test = train_test_split(X, y, test_size=0.2, random_state=42)\n",
    "\n",
    "# Train a Linear Regression model\n",
    "model = LinearRegression()\n",
    "model.fit(X_train, y_train)\n",
    "\n",
    "# Make predictions\n",
    "y_pred = model.predict(X_test)\n"
   ]
  },
  {
   "cell_type": "code",
   "execution_count": 18,
   "id": "dbf0a33b-f6eb-4e05-9a65-456c74a4639b",
   "metadata": {
    "tags": []
   },
   "outputs": [
    {
     "name": "stdout",
     "output_type": "stream",
     "text": [
      "Mean Squared Error: 0.2832420019771496\n"
     ]
    }
   ],
   "source": [
    "# Evaluate the model\n",
    "mse = mean_squared_error(y_test, y_pred)\n",
    "print(f\"Mean Squared Error: {mse}\")"
   ]
  },
  {
   "cell_type": "code",
   "execution_count": 19,
   "id": "b62a8498-79f9-4644-b4ad-cd61a27663ce",
   "metadata": {
    "tags": []
   },
   "outputs": [
    {
     "name": "stdout",
     "output_type": "stream",
     "text": [
      "Intercept: 1.1457590405500124\n",
      "Coefficients: [ 0.         -0.00775383 -0.00079061 -0.00137423 -0.0139252 ]\n"
     ]
    }
   ],
   "source": [
    "print(\"Intercept:\", model.intercept_)\n",
    "print(\"Coefficients:\", model.coef_)\n"
   ]
  },
  {
   "cell_type": "code",
   "execution_count": null,
   "id": "51e6b716-07df-42c9-a8bb-e379f684dedd",
   "metadata": {},
   "outputs": [],
   "source": []
  }
 ],
 "metadata": {
  "kernelspec": {
   "display_name": "Python 3 (ipykernel)",
   "language": "python",
   "name": "python3"
  },
  "language_info": {
   "codemirror_mode": {
    "name": "ipython",
    "version": 3
   },
   "file_extension": ".py",
   "mimetype": "text/x-python",
   "name": "python",
   "nbconvert_exporter": "python",
   "pygments_lexer": "ipython3",
   "version": "3.11.0"
  }
 },
 "nbformat": 4,
 "nbformat_minor": 5
}
