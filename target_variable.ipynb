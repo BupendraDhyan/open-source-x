{
 "cells": [
  {
   "cell_type": "code",
   "execution_count": 1,
   "id": "b9af75ec-7e2d-4e84-8de8-c1322cdccb1f",
   "metadata": {
    "tags": []
   },
   "outputs": [],
   "source": [
    "# target_variable.py\n",
    "import pandas as pd"
   ]
  },
  {
   "cell_type": "code",
   "execution_count": 2,
   "id": "bad4cf55-64db-439c-83a6-67addce43328",
   "metadata": {
    "tags": []
   },
   "outputs": [],
   "source": [
    "# Load the processed data\n",
    "data = pd.read_csv('../data/processed_data.csv')"
   ]
  },
  {
   "cell_type": "code",
   "execution_count": 3,
   "id": "79783eea-f3ef-4838-ae6e-0d21c7d9b2ab",
   "metadata": {
    "tags": []
   },
   "outputs": [],
   "source": [
    "\n",
    "# Group data by item, date, and hour, and sum the item_qty to get the target variable\n",
    "target_data = data.groupby(['item_code', 'invoice_time']).agg({'item_qty': 'sum'}).reset_index()\n",
    "target_data.rename(columns={'item_qty': 'sales'}, inplace=True)"
   ]
  },
  {
   "cell_type": "code",
   "execution_count": 4,
   "id": "beeb90eb-cb6b-4f97-9d7d-2ef38780ae2c",
   "metadata": {
    "tags": []
   },
   "outputs": [],
   "source": [
    "\n",
    "# Save the target variable data to a new file\n",
    "target_data.to_csv('../data/target_variable.csv', index=False)"
   ]
  },
  {
   "cell_type": "code",
   "execution_count": null,
   "id": "b794e984-35df-4baf-a2aa-254ab39a032f",
   "metadata": {},
   "outputs": [],
   "source": []
  }
 ],
 "metadata": {
  "kernelspec": {
   "display_name": "Python 3 (ipykernel)",
   "language": "python",
   "name": "python3"
  },
  "language_info": {
   "codemirror_mode": {
    "name": "ipython",
    "version": 3
   },
   "file_extension": ".py",
   "mimetype": "text/x-python",
   "name": "python",
   "nbconvert_exporter": "python",
   "pygments_lexer": "ipython3",
   "version": "3.11.0"
  }
 },
 "nbformat": 4,
 "nbformat_minor": 5
}
