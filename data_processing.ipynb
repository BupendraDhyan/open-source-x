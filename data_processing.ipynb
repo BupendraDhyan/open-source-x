{
 "cells": [
  {
   "cell_type": "code",
   "execution_count": 1,
   "id": "63c8c8e9-e55e-4db9-80fd-e0c5349d3178",
   "metadata": {
    "tags": []
   },
   "outputs": [],
   "source": [
    "# data_processing.py\n",
    "import pandas as pd\n"
   ]
  },
  {
   "cell_type": "code",
   "execution_count": 3,
   "id": "9bd32fb3-49e9-42a1-bfde-449c2b0b0615",
   "metadata": {
    "tags": []
   },
   "outputs": [],
   "source": [
    "# Load the item info and transaction data\n",
    "item_info = pd.read_csv('../data/item_info.csv')\n",
    "transactions = pd.read_csv('../data/transactions_info.csv')"
   ]
  },
  {
   "cell_type": "code",
   "execution_count": 4,
   "id": "40e7cdcc-5a59-4bb8-804b-598530a765c3",
   "metadata": {
    "tags": []
   },
   "outputs": [],
   "source": [
    "# Merge the data based on item_code\n",
    "merged_data = pd.merge(transactions, item_info, on='item_code')"
   ]
  },
  {
   "cell_type": "code",
   "execution_count": 5,
   "id": "0b712a20-94af-423b-a523-4d7f28c6ffea",
   "metadata": {
    "tags": []
   },
   "outputs": [],
   "source": [
    "# Convert invoice_time to a datetime object\n",
    "merged_data['invoice_time'] = pd.to_datetime(merged_data['invoice_time'])\n"
   ]
  },
  {
   "cell_type": "code",
   "execution_count": 6,
   "id": "7e7cb076-1c71-4ab3-9c5c-c2db43349157",
   "metadata": {
    "tags": []
   },
   "outputs": [],
   "source": [
    "# Set the primary key\n",
    "merged_data['Primary Key'] = merged_data['item_code'].astype(str) + '_' + \\\n",
    "                            merged_data['invoice_time'].dt.date.astype(str) + '_' + \\\n",
    "                            merged_data['invoice_time'].dt.hour.astype(str)\n"
   ]
  },
  {
   "cell_type": "code",
   "execution_count": 7,
   "id": "ac94d6ec-edc6-48b0-8550-706a801241bf",
   "metadata": {
    "tags": []
   },
   "outputs": [],
   "source": [
    "# Save the processed data to a new file\n",
    "merged_data.to_csv('../data/processed_data.csv', index=False)"
   ]
  },
  {
   "cell_type": "code",
   "execution_count": null,
   "id": "a6af2d60-ca4c-44a4-b5eb-b53c5baec529",
   "metadata": {},
   "outputs": [],
   "source": []
  }
 ],
 "metadata": {
  "kernelspec": {
   "display_name": "Python 3 (ipykernel)",
   "language": "python",
   "name": "python3"
  },
  "language_info": {
   "codemirror_mode": {
    "name": "ipython",
    "version": 3
   },
   "file_extension": ".py",
   "mimetype": "text/x-python",
   "name": "python",
   "nbconvert_exporter": "python",
   "pygments_lexer": "ipython3",
   "version": "3.11.0"
  }
 },
 "nbformat": 4,
 "nbformat_minor": 5
}
