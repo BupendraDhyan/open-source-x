{
 "cells": [
  {
   "cell_type": "code",
   "execution_count": 1,
   "id": "8dfdd36c-3c54-4c47-8292-d713e114a8d6",
   "metadata": {
    "tags": []
   },
   "outputs": [],
   "source": [
    "import pandas as pd\n",
    "from sklearn.model_selection import train_test_split\n",
    "from sklearn.ensemble import RandomForestRegressor\n",
    "from sklearn.metrics import mean_absolute_error\n",
    "from sklearn.preprocessing import LabelEncoder\n",
    "\n",
    "# Load the data\n",
    "item_info = pd.read_csv('../data/item_info.csv')\n",
    "transactions = pd.read_csv('../data/transactions_info.csv')\n",
    "merged_data = pd.read_csv('../data/processed_data.csv')\n",
    "item_features = pd.read_csv('../data/item_features.csv')\n",
    "sales_features = pd.read_csv('../data/sales_features.csv')\n",
    "target_data = pd.read_csv('../data/target_variable.csv')\n",
    "time_features = pd.read_csv('../data/time_features.csv')\n",
    "\n",
    "# Merge data to create the master table\n",
    "master_table = pd.merge(merged_data, item_features, on='item_code')\n",
    "master_table = pd.merge(master_table, sales_features, on=['item_code', 'invoice_time'])\n",
    "master_table = pd.merge(master_table, target_data, on=['item_code', 'invoice_time'])\n",
    "master_table = pd.merge(master_table, time_features, on='Primary Key')\n"
   ]
  },
  {
   "cell_type": "code",
   "execution_count": 2,
   "id": "5fc0f1a3-b912-4693-bc7b-8a997b4d115e",
   "metadata": {
    "tags": []
   },
   "outputs": [],
   "source": [
    "# Identify non-numeric columns\n",
    "non_numeric_columns = master_table.select_dtypes(exclude=['number']).columns\n",
    "\n",
    "# Encode non-numeric columns if necessary (e.g., 'item_num')\n",
    "le = LabelEncoder()\n",
    "master_table['invoice_num'] = le.fit_transform(master_table['invoice_num'])\n",
    "# Drop specified columns from the master_table\n",
    "columns_to_drop = ['item_sub_segment_x', 'item_segment_x', 'item_category', 'item_sub_department_x', 'item_department_x']\n",
    "master_table.drop(columns=columns_to_drop, inplace=True)\n"
   ]
  },
  {
   "cell_type": "code",
   "execution_count": 3,
   "id": "215240bc-5765-448c-8f53-775884822733",
   "metadata": {
    "tags": []
   },
   "outputs": [],
   "source": [
    "columns_to_drop = ['item_sub_segment_y', 'item_segment_y', 'item_sub_department_y', 'item_department_y']\n",
    "master_table.drop(columns=columns_to_drop, inplace=True)"
   ]
  },
  {
   "cell_type": "code",
   "execution_count": 4,
   "id": "6fda1bfc-a3f5-4a78-a702-e1e533117cdb",
   "metadata": {
    "tags": []
   },
   "outputs": [
    {
     "data": {
      "text/plain": [
       "Index(['item_code', 'invoice_num', 'invoice_time', 'item_qty', 'Primary Key',\n",
       "       'item_cat_Accessories', 'item_cat_Acne Preparations',\n",
       "       'item_cat_Adult Diapers', 'item_cat_After Shave Care',\n",
       "       'item_cat_Agro Chemicals',\n",
       "       ...\n",
       "       'item_cat_Wrist/Ankle Ware', 'item_cat_XMas Decorations',\n",
       "       'item_cat_living', 'mean_sales', 'max_sales', 'min_sales', 'sales',\n",
       "       'hour_of_day', 'day_of_week', 'month'],\n",
       "      dtype='object', length=746)"
      ]
     },
     "execution_count": 4,
     "metadata": {},
     "output_type": "execute_result"
    }
   ],
   "source": [
    "master_table.columns"
   ]
  },
  {
   "cell_type": "code",
   "execution_count": 5,
   "id": "6ee63bcb-dc73-4bab-a74c-09a9770c2166",
   "metadata": {
    "tags": []
   },
   "outputs": [
    {
     "data": {
      "text/html": [
       "<div>\n",
       "<style scoped>\n",
       "    .dataframe tbody tr th:only-of-type {\n",
       "        vertical-align: middle;\n",
       "    }\n",
       "\n",
       "    .dataframe tbody tr th {\n",
       "        vertical-align: top;\n",
       "    }\n",
       "\n",
       "    .dataframe thead th {\n",
       "        text-align: right;\n",
       "    }\n",
       "</style>\n",
       "<table border=\"1\" class=\"dataframe\">\n",
       "  <thead>\n",
       "    <tr style=\"text-align: right;\">\n",
       "      <th></th>\n",
       "      <th>item_code</th>\n",
       "      <th>invoice_num</th>\n",
       "      <th>invoice_time</th>\n",
       "      <th>item_qty</th>\n",
       "      <th>Primary Key</th>\n",
       "      <th>item_cat_Accessories</th>\n",
       "      <th>item_cat_Acne Preparations</th>\n",
       "      <th>item_cat_Adult Diapers</th>\n",
       "      <th>item_cat_After Shave Care</th>\n",
       "      <th>item_cat_Agro Chemicals</th>\n",
       "      <th>...</th>\n",
       "      <th>item_cat_Wrist/Ankle Ware</th>\n",
       "      <th>item_cat_XMas Decorations</th>\n",
       "      <th>item_cat_living</th>\n",
       "      <th>mean_sales</th>\n",
       "      <th>max_sales</th>\n",
       "      <th>min_sales</th>\n",
       "      <th>sales</th>\n",
       "      <th>hour_of_day</th>\n",
       "      <th>day_of_week</th>\n",
       "      <th>month</th>\n",
       "    </tr>\n",
       "  </thead>\n",
       "  <tbody>\n",
       "    <tr>\n",
       "      <th>0</th>\n",
       "      <td>1080988</td>\n",
       "      <td>51247</td>\n",
       "      <td>2022-03-11 09:37:02+00:00</td>\n",
       "      <td>1.0</td>\n",
       "      <td>1080988_2022-03-11_9</td>\n",
       "      <td>0</td>\n",
       "      <td>0</td>\n",
       "      <td>0</td>\n",
       "      <td>0</td>\n",
       "      <td>0</td>\n",
       "      <td>...</td>\n",
       "      <td>0</td>\n",
       "      <td>0</td>\n",
       "      <td>0</td>\n",
       "      <td>1.0</td>\n",
       "      <td>1.0</td>\n",
       "      <td>1.0</td>\n",
       "      <td>1.0</td>\n",
       "      <td>9</td>\n",
       "      <td>4</td>\n",
       "      <td>3</td>\n",
       "    </tr>\n",
       "    <tr>\n",
       "      <th>1</th>\n",
       "      <td>1080988</td>\n",
       "      <td>15514</td>\n",
       "      <td>2022-03-11 18:56:29+00:00</td>\n",
       "      <td>1.0</td>\n",
       "      <td>1080988_2022-03-11_18</td>\n",
       "      <td>0</td>\n",
       "      <td>0</td>\n",
       "      <td>0</td>\n",
       "      <td>0</td>\n",
       "      <td>0</td>\n",
       "      <td>...</td>\n",
       "      <td>0</td>\n",
       "      <td>0</td>\n",
       "      <td>0</td>\n",
       "      <td>1.0</td>\n",
       "      <td>1.0</td>\n",
       "      <td>1.0</td>\n",
       "      <td>1.0</td>\n",
       "      <td>18</td>\n",
       "      <td>4</td>\n",
       "      <td>3</td>\n",
       "    </tr>\n",
       "    <tr>\n",
       "      <th>2</th>\n",
       "      <td>1080988</td>\n",
       "      <td>15514</td>\n",
       "      <td>2022-03-11 18:56:29+00:00</td>\n",
       "      <td>1.0</td>\n",
       "      <td>1080988_2022-03-11_18</td>\n",
       "      <td>0</td>\n",
       "      <td>0</td>\n",
       "      <td>0</td>\n",
       "      <td>0</td>\n",
       "      <td>0</td>\n",
       "      <td>...</td>\n",
       "      <td>0</td>\n",
       "      <td>0</td>\n",
       "      <td>0</td>\n",
       "      <td>1.0</td>\n",
       "      <td>1.0</td>\n",
       "      <td>1.0</td>\n",
       "      <td>1.0</td>\n",
       "      <td>18</td>\n",
       "      <td>4</td>\n",
       "      <td>3</td>\n",
       "    </tr>\n",
       "    <tr>\n",
       "      <th>3</th>\n",
       "      <td>1080988</td>\n",
       "      <td>15514</td>\n",
       "      <td>2022-03-11 18:56:29+00:00</td>\n",
       "      <td>1.0</td>\n",
       "      <td>1080988_2022-03-11_18</td>\n",
       "      <td>0</td>\n",
       "      <td>0</td>\n",
       "      <td>0</td>\n",
       "      <td>0</td>\n",
       "      <td>0</td>\n",
       "      <td>...</td>\n",
       "      <td>0</td>\n",
       "      <td>0</td>\n",
       "      <td>0</td>\n",
       "      <td>1.0</td>\n",
       "      <td>1.0</td>\n",
       "      <td>1.0</td>\n",
       "      <td>1.0</td>\n",
       "      <td>18</td>\n",
       "      <td>4</td>\n",
       "      <td>3</td>\n",
       "    </tr>\n",
       "    <tr>\n",
       "      <th>4</th>\n",
       "      <td>1080988</td>\n",
       "      <td>15514</td>\n",
       "      <td>2022-03-11 18:56:29+00:00</td>\n",
       "      <td>1.0</td>\n",
       "      <td>1080988_2022-03-11_18</td>\n",
       "      <td>0</td>\n",
       "      <td>0</td>\n",
       "      <td>0</td>\n",
       "      <td>0</td>\n",
       "      <td>0</td>\n",
       "      <td>...</td>\n",
       "      <td>0</td>\n",
       "      <td>0</td>\n",
       "      <td>0</td>\n",
       "      <td>1.0</td>\n",
       "      <td>1.0</td>\n",
       "      <td>1.0</td>\n",
       "      <td>1.0</td>\n",
       "      <td>18</td>\n",
       "      <td>4</td>\n",
       "      <td>3</td>\n",
       "    </tr>\n",
       "  </tbody>\n",
       "</table>\n",
       "<p>5 rows × 746 columns</p>\n",
       "</div>"
      ],
      "text/plain": [
       "   item_code  invoice_num               invoice_time  item_qty  \\\n",
       "0    1080988        51247  2022-03-11 09:37:02+00:00       1.0   \n",
       "1    1080988        15514  2022-03-11 18:56:29+00:00       1.0   \n",
       "2    1080988        15514  2022-03-11 18:56:29+00:00       1.0   \n",
       "3    1080988        15514  2022-03-11 18:56:29+00:00       1.0   \n",
       "4    1080988        15514  2022-03-11 18:56:29+00:00       1.0   \n",
       "\n",
       "             Primary Key  item_cat_Accessories  item_cat_Acne Preparations  \\\n",
       "0   1080988_2022-03-11_9                     0                           0   \n",
       "1  1080988_2022-03-11_18                     0                           0   \n",
       "2  1080988_2022-03-11_18                     0                           0   \n",
       "3  1080988_2022-03-11_18                     0                           0   \n",
       "4  1080988_2022-03-11_18                     0                           0   \n",
       "\n",
       "   item_cat_Adult Diapers  item_cat_After Shave Care  item_cat_Agro Chemicals  \\\n",
       "0                       0                          0                        0   \n",
       "1                       0                          0                        0   \n",
       "2                       0                          0                        0   \n",
       "3                       0                          0                        0   \n",
       "4                       0                          0                        0   \n",
       "\n",
       "   ...  item_cat_Wrist/Ankle Ware  item_cat_XMas Decorations  item_cat_living  \\\n",
       "0  ...                          0                          0                0   \n",
       "1  ...                          0                          0                0   \n",
       "2  ...                          0                          0                0   \n",
       "3  ...                          0                          0                0   \n",
       "4  ...                          0                          0                0   \n",
       "\n",
       "   mean_sales  max_sales  min_sales  sales  hour_of_day  day_of_week  month  \n",
       "0         1.0        1.0        1.0    1.0            9            4      3  \n",
       "1         1.0        1.0        1.0    1.0           18            4      3  \n",
       "2         1.0        1.0        1.0    1.0           18            4      3  \n",
       "3         1.0        1.0        1.0    1.0           18            4      3  \n",
       "4         1.0        1.0        1.0    1.0           18            4      3  \n",
       "\n",
       "[5 rows x 746 columns]"
      ]
     },
     "execution_count": 5,
     "metadata": {},
     "output_type": "execute_result"
    }
   ],
   "source": [
    "master_table.head()"
   ]
  },
  {
   "cell_type": "code",
   "execution_count": 6,
   "id": "63c800c8-1a29-40f0-a058-e0c64c5cb8f6",
   "metadata": {
    "tags": []
   },
   "outputs": [],
   "source": [
    "# Define features and target variable\n",
    "X = master_table.drop(columns=['sales', 'Primary Key', 'invoice_time'])\n",
    "y = master_table['sales']\n",
    "\n",
    "# Split the data into training and testing sets\n",
    "X_train, X_test, y_train, y_test = train_test_split(X, y, test_size=0.2, random_state=42)\n",
    "\n",
    "# Create a simple model (e.g., Random Forest Regressor)\n",
    "model = RandomForestRegressor()"
   ]
  },
  {
   "cell_type": "code",
   "execution_count": 7,
   "id": "c03ce074-f804-4d71-a40a-169a73d09e5c",
   "metadata": {
    "tags": []
   },
   "outputs": [
    {
     "data": {
      "text/html": [
       "<style>#sk-container-id-1 {color: black;}#sk-container-id-1 pre{padding: 0;}#sk-container-id-1 div.sk-toggleable {background-color: white;}#sk-container-id-1 label.sk-toggleable__label {cursor: pointer;display: block;width: 100%;margin-bottom: 0;padding: 0.3em;box-sizing: border-box;text-align: center;}#sk-container-id-1 label.sk-toggleable__label-arrow:before {content: \"▸\";float: left;margin-right: 0.25em;color: #696969;}#sk-container-id-1 label.sk-toggleable__label-arrow:hover:before {color: black;}#sk-container-id-1 div.sk-estimator:hover label.sk-toggleable__label-arrow:before {color: black;}#sk-container-id-1 div.sk-toggleable__content {max-height: 0;max-width: 0;overflow: hidden;text-align: left;background-color: #f0f8ff;}#sk-container-id-1 div.sk-toggleable__content pre {margin: 0.2em;color: black;border-radius: 0.25em;background-color: #f0f8ff;}#sk-container-id-1 input.sk-toggleable__control:checked~div.sk-toggleable__content {max-height: 200px;max-width: 100%;overflow: auto;}#sk-container-id-1 input.sk-toggleable__control:checked~label.sk-toggleable__label-arrow:before {content: \"▾\";}#sk-container-id-1 div.sk-estimator input.sk-toggleable__control:checked~label.sk-toggleable__label {background-color: #d4ebff;}#sk-container-id-1 div.sk-label input.sk-toggleable__control:checked~label.sk-toggleable__label {background-color: #d4ebff;}#sk-container-id-1 input.sk-hidden--visually {border: 0;clip: rect(1px 1px 1px 1px);clip: rect(1px, 1px, 1px, 1px);height: 1px;margin: -1px;overflow: hidden;padding: 0;position: absolute;width: 1px;}#sk-container-id-1 div.sk-estimator {font-family: monospace;background-color: #f0f8ff;border: 1px dotted black;border-radius: 0.25em;box-sizing: border-box;margin-bottom: 0.5em;}#sk-container-id-1 div.sk-estimator:hover {background-color: #d4ebff;}#sk-container-id-1 div.sk-parallel-item::after {content: \"\";width: 100%;border-bottom: 1px solid gray;flex-grow: 1;}#sk-container-id-1 div.sk-label:hover label.sk-toggleable__label {background-color: #d4ebff;}#sk-container-id-1 div.sk-serial::before {content: \"\";position: absolute;border-left: 1px solid gray;box-sizing: border-box;top: 0;bottom: 0;left: 50%;z-index: 0;}#sk-container-id-1 div.sk-serial {display: flex;flex-direction: column;align-items: center;background-color: white;padding-right: 0.2em;padding-left: 0.2em;position: relative;}#sk-container-id-1 div.sk-item {position: relative;z-index: 1;}#sk-container-id-1 div.sk-parallel {display: flex;align-items: stretch;justify-content: center;background-color: white;position: relative;}#sk-container-id-1 div.sk-item::before, #sk-container-id-1 div.sk-parallel-item::before {content: \"\";position: absolute;border-left: 1px solid gray;box-sizing: border-box;top: 0;bottom: 0;left: 50%;z-index: -1;}#sk-container-id-1 div.sk-parallel-item {display: flex;flex-direction: column;z-index: 1;position: relative;background-color: white;}#sk-container-id-1 div.sk-parallel-item:first-child::after {align-self: flex-end;width: 50%;}#sk-container-id-1 div.sk-parallel-item:last-child::after {align-self: flex-start;width: 50%;}#sk-container-id-1 div.sk-parallel-item:only-child::after {width: 0;}#sk-container-id-1 div.sk-dashed-wrapped {border: 1px dashed gray;margin: 0 0.4em 0.5em 0.4em;box-sizing: border-box;padding-bottom: 0.4em;background-color: white;}#sk-container-id-1 div.sk-label label {font-family: monospace;font-weight: bold;display: inline-block;line-height: 1.2em;}#sk-container-id-1 div.sk-label-container {text-align: center;}#sk-container-id-1 div.sk-container {/* jupyter's `normalize.less` sets `[hidden] { display: none; }` but bootstrap.min.css set `[hidden] { display: none !important; }` so we also need the `!important` here to be able to override the default hidden behavior on the sphinx rendered scikit-learn.org. See: https://github.com/scikit-learn/scikit-learn/issues/21755 */display: inline-block !important;position: relative;}#sk-container-id-1 div.sk-text-repr-fallback {display: none;}</style><div id=\"sk-container-id-1\" class=\"sk-top-container\"><div class=\"sk-text-repr-fallback\"><pre>RandomForestRegressor()</pre><b>In a Jupyter environment, please rerun this cell to show the HTML representation or trust the notebook. <br />On GitHub, the HTML representation is unable to render, please try loading this page with nbviewer.org.</b></div><div class=\"sk-container\" hidden><div class=\"sk-item\"><div class=\"sk-estimator sk-toggleable\"><input class=\"sk-toggleable__control sk-hidden--visually\" id=\"sk-estimator-id-1\" type=\"checkbox\" checked><label for=\"sk-estimator-id-1\" class=\"sk-toggleable__label sk-toggleable__label-arrow\">RandomForestRegressor</label><div class=\"sk-toggleable__content\"><pre>RandomForestRegressor()</pre></div></div></div></div></div>"
      ],
      "text/plain": [
       "RandomForestRegressor()"
      ]
     },
     "execution_count": 7,
     "metadata": {},
     "output_type": "execute_result"
    }
   ],
   "source": [
    "# Fit the model\n",
    "model.fit(X_train, y_train)"
   ]
  },
  {
   "cell_type": "code",
   "execution_count": 8,
   "id": "818d6cec-1e69-41c9-bd84-6514616305e1",
   "metadata": {
    "tags": []
   },
   "outputs": [
    {
     "name": "stdout",
     "output_type": "stream",
     "text": [
      "MAPE: 0.05%\n"
     ]
    }
   ],
   "source": [
    "predictions = model.predict(X_test)\n",
    "\n",
    "# Calculate MAPE\n",
    "mape = mean_absolute_error(y_test, predictions) / y_test.mean() * 100\n",
    "print(f\"MAPE: {mape:.2f}%\")"
   ]
  },
  {
   "cell_type": "code",
   "execution_count": null,
   "id": "b959153c-3547-4aaa-8dac-0d8b66551897",
   "metadata": {},
   "outputs": [],
   "source": []
  }
 ],
 "metadata": {
  "kernelspec": {
   "display_name": "Python 3 (ipykernel)",
   "language": "python",
   "name": "python3"
  },
  "language_info": {
   "codemirror_mode": {
    "name": "ipython",
    "version": 3
   },
   "file_extension": ".py",
   "mimetype": "text/x-python",
   "name": "python",
   "nbconvert_exporter": "python",
   "pygments_lexer": "ipython3",
   "version": "3.11.0"
  }
 },
 "nbformat": 4,
 "nbformat_minor": 5
}
