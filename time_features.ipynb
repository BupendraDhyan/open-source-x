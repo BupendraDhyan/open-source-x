{
 "cells": [
  {
   "cell_type": "code",
   "execution_count": 1,
   "id": "65f9335b-51cc-4f6c-abbf-7ae1bb82919a",
   "metadata": {
    "tags": []
   },
   "outputs": [],
   "source": [
    "# time_features.py\n",
    "import pandas as pd\n"
   ]
  },
  {
   "cell_type": "code",
   "execution_count": 2,
   "id": "46a9a891-3a86-40eb-a299-2dd1bb1c395a",
   "metadata": {
    "tags": []
   },
   "outputs": [],
   "source": [
    "# Load the processed data\n",
    "data = pd.read_csv('../data/processed_data.csv')"
   ]
  },
  {
   "cell_type": "code",
   "execution_count": 4,
   "id": "8be1608a-26b4-41de-9df5-287feabb0856",
   "metadata": {
    "tags": []
   },
   "outputs": [],
   "source": [
    "# Ensure the 'invoice_time' column is a datetime column\n",
    "data['invoice_time'] = pd.to_datetime(data['invoice_time'])\n",
    "\n",
    "# Now you can use the .dt accessor to extract time-related features\n",
    "data['hour_of_day'] = data['invoice_time'].dt.hour\n",
    "data['day_of_week'] = data['invoice_time'].dt.dayofweek\n",
    "data['month'] = data['invoice_time'].dt.month\n"
   ]
  },
  {
   "cell_type": "code",
   "execution_count": 6,
   "id": "acd94706-6786-43ac-b9fb-77609d2dcbe2",
   "metadata": {
    "tags": []
   },
   "outputs": [],
   "source": [
    "# Save the time-related features to a new file\n",
    "time_features = data[['Primary Key', 'hour_of_day', 'day_of_week', 'month']]\n",
    "time_features.to_csv('../data/time_features.csv', index=False)"
   ]
  },
  {
   "cell_type": "code",
   "execution_count": null,
   "id": "583fb336-dc5c-4c73-982d-52581c0e999a",
   "metadata": {},
   "outputs": [],
   "source": []
  }
 ],
 "metadata": {
  "kernelspec": {
   "display_name": "Python 3 (ipykernel)",
   "language": "python",
   "name": "python3"
  },
  "language_info": {
   "codemirror_mode": {
    "name": "ipython",
    "version": 3
   },
   "file_extension": ".py",
   "mimetype": "text/x-python",
   "name": "python",
   "nbconvert_exporter": "python",
   "pygments_lexer": "ipython3",
   "version": "3.11.0"
  }
 },
 "nbformat": 4,
 "nbformat_minor": 5
}
