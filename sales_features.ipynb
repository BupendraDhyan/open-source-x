{
 "cells": [
  {
   "cell_type": "code",
   "execution_count": 1,
   "id": "91e900a8-fc93-4dde-9d44-168e05aea870",
   "metadata": {
    "tags": []
   },
   "outputs": [],
   "source": [
    "# sales_features.py\n",
    "import pandas as pd"
   ]
  },
  {
   "cell_type": "code",
   "execution_count": 2,
   "id": "ac6aa16e-6153-4961-98ab-279c0a1aaa06",
   "metadata": {
    "tags": []
   },
   "outputs": [],
   "source": [
    "# Load the processed data\n",
    "data = pd.read_csv('../data/processed_data.csv')"
   ]
  },
  {
   "cell_type": "code",
   "execution_count": 3,
   "id": "05599a66-be3a-4023-85ff-db01c51a2563",
   "metadata": {
    "tags": []
   },
   "outputs": [],
   "source": [
    "# Group data by item, date, and hour, and compute sales-related features (e.g., mean, max, min)\n",
    "sales_features = data.groupby(['item_code', 'invoice_time']).agg({\n",
    "    'item_qty': ['mean', 'max', 'min']\n",
    "}).reset_index()"
   ]
  },
  {
   "cell_type": "code",
   "execution_count": 4,
   "id": "aefd1809-42e0-4bff-af1b-aedc33d43055",
   "metadata": {
    "tags": []
   },
   "outputs": [],
   "source": [
    "# Rename columns for clarity\n",
    "sales_features.columns = ['item_code', 'invoice_time', 'mean_sales', 'max_sales', 'min_sales']\n"
   ]
  },
  {
   "cell_type": "code",
   "execution_count": 5,
   "id": "6c12c5b2-4513-489c-bd08-0c700550a55c",
   "metadata": {
    "tags": []
   },
   "outputs": [],
   "source": [
    "# Save the sales-related features to a new file\n",
    "sales_features.to_csv('../data/sales_features.csv', index=False)"
   ]
  },
  {
   "cell_type": "code",
   "execution_count": null,
   "id": "76257731-9000-4368-a5ea-23cf9587e64d",
   "metadata": {},
   "outputs": [],
   "source": []
  }
 ],
 "metadata": {
  "kernelspec": {
   "display_name": "Python 3 (ipykernel)",
   "language": "python",
   "name": "python3"
  },
  "language_info": {
   "codemirror_mode": {
    "name": "ipython",
    "version": 3
   },
   "file_extension": ".py",
   "mimetype": "text/x-python",
   "name": "python",
   "nbconvert_exporter": "python",
   "pygments_lexer": "ipython3",
   "version": "3.11.0"
  }
 },
 "nbformat": 4,
 "nbformat_minor": 5
}
